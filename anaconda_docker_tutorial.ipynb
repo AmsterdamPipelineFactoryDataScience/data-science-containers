{
 "cells": [
  {
   "cell_type": "markdown",
   "metadata": {},
   "source": [
    "# Introduction"
   ]
  },
  {
   "cell_type": "markdown",
   "metadata": {},
   "source": [
    "This tutorial explains how to set up a working data science envrionment with Anaconda and Docker. Don't worry if you don't know these names; at the and of the tutorial you will definitely know more about Docker and Anaconda. \n",
    "\n",
    "If this is your first encounter with development envrionments for data science, you will come across may  many  unfamiliar names and terms. For this tutorial you don't need to understand all the details. In fact, you are encouraged to forget about the details, and to focus on the high level understanding.  \n",
    "\n",
    "**Part 1** We will start showing you a working data science envrionment. Playing around with this envrionment will learn you more then I could possibly convey with a thousand words. \n",
    "\n",
    "**Part 2** Here you go more into detail. We take you trough the steps of building your own data science envrinment. "
   ]
  },
  {
   "cell_type": "markdown",
   "metadata": {},
   "source": [
    "### What is a data science envrionment?\n",
    "\n",
    "With data science envrionment, I mean the collections of software that a data scientist uses to develop a product, or to perform an analysis. A common setup includes at least three types of software packages:\n",
    "- A programming language (Python and R are very popular)\n",
    "- A IDE that allows for interactive programming (For example Jupyter notebooks, and R- studio)\n",
    "- A collection of libraries that is used for the analysis (The Pandas packages for Python, and dplyr for R)\n",
    "\n",
    "On top off that, you may have other software applications\n",
    "- Databases (MongoDB, MariaDB)\n",
    "- Packages for deep learning (Theano, TensorFlow, Keras)\n",
    "- Cluster solutions (Hadoop, Spark)\n",
    "- Backend for webstie, app or API (nodejs, flask)\n",
    "- Frontend (angularjs, d3)\n",
    "- Streaming frameworks (Kafka)\n",
    "\n",
    "#### The reproducibility problem\n",
    "Suppose I want to work with you on my project. Installing all these packages on your laptop is tedious. Moreover, it is very likely that you cannot exeactly reproduce the setup that I was using. You may have a different operating system, or different versions of your software. It gets even more complicated when different several software applications are configured to work together, as this typically requires manual work.\n",
    "\n",
    "#### Containers - a solution to the reproducibility problem\n",
    "A container, is an isolated part of your computer, that encapsulates an application together with all it's dependencies. Programming languages, packages, your code, and even the operating system of our application can be packaged in a container. If you want to work on my project, I send you the project container, which you can start using immedeatly."
   ]
  },
  {
   "cell_type": "markdown",
   "metadata": {},
   "source": [
    "# Part 1: Spin up a data science envrionment\n",
    "Let's check thins in practice.\n",
    "\n",
    "**Problem:** You want to try a typical data science envrionment on your own laptop. However, you neither have the time or the expertise to install in the required software applications.  \n",
    "**Solution:** Use a container provided by Anaconda. This container ontains a ready to use data science environment."
   ]
  },
  {
   "cell_type": "markdown",
   "metadata": {},
   "source": [
    "The container application that we are going to use managing and running containers, is called Docker. To install Docker on your computer, please follow the [Docker installation instructions](https://www.docker.com/products/overview) for your operating system.\n"
   ]
  },
  {
   "cell_type": "markdown",
   "metadata": {},
   "source": [
    "First we need to download the anaconda container."
   ]
  },
  {
   "cell_type": "code",
   "execution_count": 4,
   "metadata": {
    "collapsed": false
   },
   "outputs": [
    {
     "name": "stdout",
     "output_type": "stream",
     "text": [
      "Using default tag: latest\r\n",
      "latest: Pulling from continuumio/miniconda\r\n",
      "\u001b[0BDigest: sha256:1e4a6a3c71d7b7ad92cb600d9eb4746734ea1afca73b824786d857813f3fec59\r\n",
      "Status: Image is up to date for continuumio/miniconda:latest\r\n"
     ]
    }
   ],
   "source": [
    "docker pull continuumio/miniconda"
   ]
  },
  {
   "cell_type": "markdown",
   "metadata": {},
   "source": [
    "Once the container is downloaded, we spin it up with"
   ]
  },
  {
   "cell_type": "code",
   "execution_count": null,
   "metadata": {
    "collapsed": false
   },
   "outputs": [],
   "source": [
    "docker run -p 8890:8890 continuumio/miniconda /bin/bash -c \"/opt/conda/bin/conda install jupyter -y --quiet && mkdir /opt/notebooks && /opt/conda/bin/jupyter notebook --notebook-dir=/opt/notebooks --ip='*' --port=8890 --no-browser\""
   ]
  },
  {
   "cell_type": "markdown",
   "metadata": {},
   "source": [
    "Now the Jupyter notebook is available on your local machine at http://localhost:8890/tree in your browser.\n",
    "If you are using a Docker Machine VM (this may be the case if your laptop runs Windows), you need to use\n",
    "`http://<DOCKER-MACHINE-IP>:8890`.\n",
    "\n",
    "What you see, is an empty Jupyter tree. You can click \"new\" to create a new python notebook, a text file, or to open a shell."
   ]
  },
  {
   "cell_type": "markdown",
   "metadata": {},
   "source": [
    "What has just happend? \n",
    "* The container "
   ]
  },
  {
   "cell_type": "markdown",
   "metadata": {},
   "source": [
    "## Exercise 1: Get a sample notebook running\n",
    "Now that you have your data science envrionment up, you are ready to play with IPython notebooks.\n",
    "On the internet, you can find many interesting IPython notebooks. In this exercise, you are going to download a notebook, and play with it. However, usually you will have to install some dependencies first. How you do this, is explained below. \n",
    "\n",
    "1. Choose a note book that you find interesting from https://github.com/ipython/ipython/wiki/A-gallery-of-interesting-IPython-Notebooks#introductory-tutorials\n",
    "2. Open the Jupyter interface and choose `new` and then `terminal`\n",
    "3. Download the notebook that you chose from the terminal. Make sure that the file that you download has the xtension `.ipynb`.  \n",
    "This is an example:\n",
    "```\n",
    "cd /opt/notebooks\n",
    "wget https://raw.githubusercontent.com/plotly/python-user-guide/master/s3_bubble-charts/s3_bubble-charts.ipynb\n",
    "```\n",
    "4. The notebook should appear in the Jupyter overview. Open it and evalute the lines of code by pressing shift + enter\n",
    "5. You will recieve some errors, because not all depedencies are installed. In the above example, the Python package plotly is not present. `import plotly` results in the error\n",
    "```\n",
    "ImportError: No module named plotly\n",
    "```\n",
    "6. In order to install plotly, go back to the terminal and type\n",
    "```\n",
    "conda install plotly\n",
    "```\n",
    "Now try to re-run the import command.\n",
    "7. Work your way trough the notebook, and install all dependencies that are needed.\n",
    "\n",
    "\n",
    "#### Beware\n",
    "Once you close your docker session, all your work will be lost. Each time you close a container, it loses its state. In part II, we are going to save your work by creating a new container."
   ]
  },
  {
   "cell_type": "markdown",
   "metadata": {},
   "source": [
    "# Part II: Create your own data science container\n",
    "In part one, you started out with a standard anaconda conatainer. You donwloaded a sample notebook, and you installed all it's depedencies. \n",
    "\n",
    "You changed the state of the container, but changes are not persistent. When you close the container, all changes are lost. We can change your work by creating a new container, based on the current (changed) state of your anaconda container."
   ]
  },
  {
   "cell_type": "code",
   "execution_count": null,
   "metadata": {
    "collapsed": true
   },
   "outputs": [],
   "source": [
    "docker ps"
   ]
  },
  {
   "cell_type": "markdown",
   "metadata": {},
   "source": [
    "The name of the container instance is lonely_swartz. Let's rename it to plotly:"
   ]
  },
  {
   "cell_type": "code",
   "execution_count": null,
   "metadata": {
    "collapsed": true
   },
   "outputs": [],
   "source": [
    "docker rename lonely_swartz plotly "
   ]
  },
  {
   "cell_type": "code",
   "execution_count": null,
   "metadata": {
    "collapsed": true
   },
   "outputs": [],
   "source": [
    "docker commit -m  \"Added plotly notebook\" plotly "
   ]
  },
  {
   "cell_type": "markdown",
   "metadata": {},
   "source": [
    "The plotly image should now appear in your image repository"
   ]
  },
  {
   "cell_type": "code",
   "execution_count": null,
   "metadata": {
    "collapsed": true
   },
   "outputs": [],
   "source": [
    "docker images"
   ]
  },
  {
   "cell_type": "markdown",
   "metadata": {},
   "source": [
    "You can spin up the image with"
   ]
  },
  {
   "cell_type": "code",
   "execution_count": null,
   "metadata": {
    "collapsed": true
   },
   "outputs": [],
   "source": [
    "docker run -p 8891:8891 plotly /opt/conda/bin/jupyter notebook --notebook-dir=/opt/notebooks --ip='*' --port=88│bash: docker: command not found\n",
    "91 --no-browser"
   ]
  },
  {
   "cell_type": "markdown",
   "metadata": {},
   "source": [
    "## Further learning\n",
    "For these exercises you can use the Docker documentation, `man docker`, and a search engine.\n",
    "\n",
    "1. Use `docker build` to build your container from a script called `Dockerfile`\n",
    "2. Create a git repository with the following files\n",
    "    a. readme.md that explains what is inside this docker container\n",
    "    b. Dockerfile\n",
    "3. Add an `ENTRYPOINT` to your Dockerfile\n",
    "3. Explore and try more docker images at [docker hub](https://hub.docker.com/)\n",
    "4. Create an account on docker hub\n",
    "5. Push your docker container to your docker hub account\n",
    "6. Figure out how to share files on the host system with the container\n",
    "7. Correct and extend this notebook, and push changes to github."
   ]
  },
  {
   "cell_type": "code",
   "execution_count": null,
   "metadata": {
    "collapsed": true
   },
   "outputs": [],
   "source": []
  }
 ],
 "metadata": {
  "kernelspec": {
   "display_name": "Bash",
   "language": "bash",
   "name": "bash"
  },
  "language_info": {
   "codemirror_mode": "shell",
   "file_extension": ".sh",
   "mimetype": "text/x-sh",
   "name": "bash"
  }
 },
 "nbformat": 4,
 "nbformat_minor": 0
}
